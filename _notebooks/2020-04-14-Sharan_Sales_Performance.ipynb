{
 "cells": [
  {
   "cell_type": "markdown",
   "metadata": {
    "colab_type": "text",
    "id": "f34lVoCMeJle"
   },
   "source": [
    "# My Sales Performance\n",
    "> This notebook is to analyse my sales perfomance from 2018 september, the date i joined my organisation.\n",
    "\n",
    "toc: false\n",
    "branch: master\n",
    "badges: true\n",
    "comments: true\n",
    "categories: [fastpages,CNC, Sales, Haas,Forecasting, VMC, colab]\n",
    "author: Sharan Kumar\n",
    "image: images/some_folder/your_image.png\n",
    "hide: false\n",
    "search_exclude: true\n",
    "metadata_key1: metadata_value1\n",
    "metadata_key2: metadata_value2"
   ]
  },
  {
   "cell_type": "markdown",
   "metadata": {},
   "source": [
    " Liberaries which we are going to use are mentioned. Any additional libraries will be added as and when required\n",
    " Pandas library is for basic operations like print, write , read , merge etc., so i add them in all notebooks\n",
    " Numpy library is for mathematical operations\n",
    " Matplotlib is for creating plots,  graphs and visual representation to better understand our findings\n"
   ]
  },
  {
   "cell_type": "code",
   "execution_count": 1,
   "metadata": {
    "colab": {},
    "colab_type": "code",
    "id": "jeXJ4K729X6-"
   },
   "outputs": [],
   "source": [
    "import pandas as pd\n",
    "import numpy as np\n",
    "import matplotlib.pyplot as plt\n",
    "\n",
    "%matplotlib inline"
   ]
  },
  {
   "cell_type": "markdown",
   "metadata": {},
   "source": [
    "The last line is to ensure the plots open in same window instead of seperate window"
   ]
  },
  {
   "cell_type": "markdown",
   "metadata": {},
   "source": [
    " We are creating a dataframe, which will hold the data. In this case the data is in an excel sheet.\n",
    " for an earlier version of Excel, you may need to use the file extension of 'xls'\n",
    " We can give any name for the the data frame we created but I am giving the name df for shortform of dataframe\n",
    " (i know it's obvious but nevermind ). header =1 to mention that the first row is column name"
   ]
  },
  {
   "cell_type": "code",
   "execution_count": 2,
   "metadata": {
    "colab": {},
    "colab_type": "code",
    "id": "Yb18-au29X7J",
    "outputId": "cf0c2fc3-5dec-4773-a8ff-b940a6a7fe67"
   },
   "outputs": [],
   "source": [
    "df = pd.read_excel (r'..\\Sharan\\Sharan Performance.xlsx', header=2) "
   ]
  },
  {
   "cell_type": "code",
   "execution_count": 3,
   "metadata": {},
   "outputs": [
    {
     "name": "stdout",
     "output_type": "stream",
     "text": [
      "                    Customer Machine     Month  Year         Sector  \\\n",
      "0          Limat Engineering    VF-4  February  2019       toolroom   \n",
      "1             DMV Industries    VF-4       May  2019  die and mould   \n",
      "2                    Sosher     VF-2      July  2019       toolroom   \n",
      "3                    Sosher   ST 20Y      July  2019       toolroom   \n",
      "4                   Texcel Q    VF-2    August  2019     production   \n",
      "5               Rapid ProMac    VF-4  December  2019     production   \n",
      "6  Royal Casting Engineering    VF-4   January  2020  die and mould   \n",
      "7               Rapid ProMac    VF-2  February  2020     production   \n",
      "\n",
      "        Region  Previous machine Stock machine  \n",
      "0      Chennai                 0            No  \n",
      "1      Chennai                 0            No  \n",
      "2  Kanchipuram                 0            No  \n",
      "3  Kanchipuram                 0            No  \n",
      "4  Kanchipuram                 7           Yes  \n",
      "5      Chennai                 2           Yes  \n",
      "6  Thiruvallur                 0            No  \n",
      "7      Chennai                 3           Yes  \n"
     ]
    }
   ],
   "source": [
    "print (df)"
   ]
  },
  {
   "cell_type": "markdown",
   "metadata": {
    "colab_type": "text",
    "id": "h2aZD2Iq9X7R"
   },
   "source": [
    "The above list contains list of customers who purchased haas machines from Me, Sharan Kumar.\n",
    "The columns are: \n",
    "\n",
    "Customer: Customer name\n",
    "\n",
    "Machine : Machine purchased from me\n",
    "\n",
    "Month   : Month of purchase\n",
    "\n",
    "Year    : Year of purchase\n",
    "\n",
    "Sector  : Sector in which customer works in\n",
    "\n",
    "Region  : District in which the company is located\n",
    "\n",
    "Previous machine: Previous machine in same catagory the customer has. For example, if he is purchasing VMC then the table will \n",
    "have number of VMCs.\n",
    "\n",
    "Stock machine : Whether the machine already exisitng in our stock or they had to be imported."
   ]
  },
  {
   "cell_type": "code",
   "execution_count": 4,
   "metadata": {
    "colab": {},
    "colab_type": "code",
    "id": "SAbmRek39X7S",
    "outputId": "0936accc-dd01-494f-c2d8-16b5308592d0"
   },
   "outputs": [
    {
     "data": {
      "text/plain": [
       "Customer            object\n",
       "Machine             object\n",
       "Month               object\n",
       "Year                 int64\n",
       "Sector              object\n",
       "Region              object\n",
       "Previous machine     int64\n",
       "Stock machine       object\n",
       "dtype: object"
      ]
     },
     "execution_count": 4,
     "metadata": {},
     "output_type": "execute_result"
    }
   ],
   "source": [
    "df.dtypes"
   ]
  },
  {
   "cell_type": "code",
   "execution_count": 7,
   "metadata": {
    "colab": {},
    "colab_type": "code",
    "id": "fTmjs8QW9X7d"
   },
   "outputs": [],
   "source": [
    "df_new= df[['Customer','Machine','Month','Sector','Region','Stock machine']].astype(str)"
   ]
  },
  {
   "cell_type": "code",
   "execution_count": null,
   "metadata": {
    "colab": {},
    "colab_type": "code",
    "id": "flln89799X7t"
   },
   "outputs": [],
   "source": [
    "#convert_dict={'Customer':str,'Machine':str,'Month':str,'sector':str, 'region':str,'Stock machine':str}"
   ]
  },
  {
   "cell_type": "code",
   "execution_count": 8,
   "metadata": {
    "colab": {},
    "colab_type": "code",
    "id": "tnx8lhAy9X76",
    "outputId": "a07fba50-a9b3-4d04-ef48-613811f3ddc6"
   },
   "outputs": [
    {
     "data": {
      "text/plain": [
       "Customer         object\n",
       "Machine          object\n",
       "Month            object\n",
       "Sector           object\n",
       "Region           object\n",
       "Stock machine    object\n",
       "dtype: object"
      ]
     },
     "execution_count": 8,
     "metadata": {},
     "output_type": "execute_result"
    }
   ],
   "source": [
    "#df = df.astype(convert_dict) \n",
    "df_new.dtypes"
   ]
  },
  {
   "cell_type": "code",
   "execution_count": 9,
   "metadata": {
    "colab": {},
    "colab_type": "code",
    "id": "gbrgbWn29X8L",
    "outputId": "bd70467e-4632-4ed1-e3b0-1a56a8bd10bd"
   },
   "outputs": [
    {
     "name": "stdout",
     "output_type": "stream",
     "text": [
      " Number of machines sold in 2018: 0\n"
     ]
    }
   ],
   "source": [
    "print(\" Number of machines sold in 2018:\",df['Machine'].where(df.Year==2018).count())\n"
   ]
  },
  {
   "cell_type": "code",
   "execution_count": 10,
   "metadata": {
    "colab": {},
    "colab_type": "code",
    "id": "MKBnWABO9X8Q",
    "outputId": "6a3ff8b3-6c36-4829-82db-b374b4387775"
   },
   "outputs": [
    {
     "name": "stdout",
     "output_type": "stream",
     "text": [
      "Number of machines sold in 2019: 6\n",
      "\n",
      "Different machines sold in 2019:\n"
     ]
    },
    {
     "data": {
      "text/plain": [
       "VF-4      3\n",
       "VF-2      2\n",
       "ST 20Y    1\n",
       "Name: Machine, dtype: int64"
      ]
     },
     "execution_count": 10,
     "metadata": {},
     "output_type": "execute_result"
    }
   ],
   "source": [
    "print(\"Number of machines sold in 2019:\",df['Machine'].where(df.Year==2019).count())\n",
    "print(\"\\nThe machines sold in 2019:\")\n",
    "df['Machine'].where(df.Year==2019).value_counts()"
   ]
  },
  {
   "cell_type": "code",
   "execution_count": 11,
   "metadata": {
    "colab": {},
    "colab_type": "code",
    "id": "RNbZmMNH9X8U",
    "outputId": "73242911-d2e2-40c4-f790-671c7bd768fe"
   },
   "outputs": [
    {
     "name": "stdout",
     "output_type": "stream",
     "text": [
      "Number of machines sold in 2020: 2 *\n",
      "\n",
      "Different machines sold in 2020:\n",
      "\n",
      "VF-4    1\n",
      "VF-2    1\n",
      "Name: Machine, dtype: int64\n",
      "\n",
      "* Made till end of February\n"
     ]
    }
   ],
   "source": [
    "print(\"Number of machines sold in 2020:\",df['Machine'].where(df.Year==2020).count(),\"*\")\n",
    "print(\"\\nDifferent machines sold in 2020:\\n\")\n",
    "print(df['Machine'].where(df.Year==2020).value_counts())\n",
    "print(\"\\n* Made till end of February\")"
   ]
  },
  {
   "cell_type": "code",
   "execution_count": 12,
   "metadata": {
    "colab": {},
    "colab_type": "code",
    "id": "q7R9Reyr9X8b",
    "outputId": "b7f82fe5-e68a-4fbf-8e30-f9ff32c8e001"
   },
   "outputs": [
    {
     "name": "stdout",
     "output_type": "stream",
     "text": [
      " Total number of machines sold: 8\n"
     ]
    }
   ],
   "source": [
    "print(\" Total number of machines sold:\",df['Machine'].count())"
   ]
  },
  {
   "cell_type": "code",
   "execution_count": 13,
   "metadata": {
    "colab": {},
    "colab_type": "code",
    "id": "S3bvMmPa9X8i",
    "outputId": "caf0ebff-8209-4ded-f4e6-27de8b5dd96b"
   },
   "outputs": [
    {
     "name": "stdout",
     "output_type": "stream",
     "text": [
      "Different machines sold:\n"
     ]
    },
    {
     "data": {
      "text/plain": [
       "Year  Machine\n",
       "2019  VF-4       3\n",
       "      VF-2       2\n",
       "      ST 20Y     1\n",
       "2020  VF-2       1\n",
       "      VF-4       1\n",
       "Name: Machine, dtype: int64"
      ]
     },
     "execution_count": 13,
     "metadata": {},
     "output_type": "execute_result"
    }
   ],
   "source": [
    "print(\"Different machines sold:\")\n",
    "df.groupby('Year')['Machine'].value_counts()"
   ]
  },
  {
   "cell_type": "markdown",
   "metadata": {
    "colab_type": "text",
    "id": "f0lQgtfi9X8n"
   },
   "source": [
    "I have been part of manav marketing since 2018 september that means I have been in company for 4 months in 2018. I have sold 6  machines in 2019 and 2 machine in 2020. The most sold machine is VF-4."
   ]
  },
  {
   "cell_type": "code",
   "execution_count": 15,
   "metadata": {
    "colab": {},
    "colab_type": "code",
    "id": "8u7YqnA29X8p"
   },
   "outputs": [
    {
     "data": {
      "text/plain": [
       "Year  Machine\n",
       "2019  VF-4       3\n",
       "      VF-2       2\n",
       "      ST 20Y     1\n",
       "2020  VF-2       1\n",
       "      VF-4       1\n",
       "Name: Machine, dtype: int64"
      ]
     },
     "execution_count": 15,
     "metadata": {},
     "output_type": "execute_result"
    }
   ],
   "source": [
    "#df.groupby(['Year'])['Machine'].transform('count')\n",
    "df1=df.groupby('Year')['Machine'].value_counts()\n",
    "df1"
   ]
  },
  {
   "cell_type": "code",
   "execution_count": null,
   "metadata": {
    "colab": {},
    "colab_type": "code",
    "id": "TI9Pkbf79X8u",
    "outputId": "95d02e02-7e52-45a9-c159-2fd46b366fe4"
   },
   "outputs": [],
   "source": [
    "import matplotlib.pyplot as plt\n",
    "import seaborn as sns\n",
    "\n",
    "sns.set(\n",
    "    font_scale=1.5,\n",
    "    style=\"whitegrid\",\n",
    "    rc={'figure.figsize':(20,7)}\n",
    ")"
   ]
  },
  {
   "cell_type": "code",
   "execution_count": null,
   "metadata": {
    "colab": {},
    "colab_type": "code",
    "id": "qvkwKV3_9X8y"
   },
   "outputs": [],
   "source": [
    "df['Yearly sales']=df.groupby(['Year'])['Machine'].transform('count')"
   ]
  },
  {
   "cell_type": "code",
   "execution_count": null,
   "metadata": {
    "colab": {},
    "colab_type": "code",
    "id": "hBFnItB59X89"
   },
   "outputs": [],
   "source": [
    "df.plot.bar(x={'2018','2019','2020'},y='Yearly sales',rot=0)\n",
    "plt.show()"
   ]
  },
  {
   "cell_type": "code",
   "execution_count": null,
   "metadata": {
    "colab": {},
    "colab_type": "code",
    "id": "g1yK-ltA9X9B"
   },
   "outputs": [],
   "source": []
  }
 ],
 "metadata": {
  "colab": {
   "name": "Sharan_Sales_Performance.ipynb",
   "provenance": []
  },
  "kernelspec": {
   "display_name": "Python 3",
   "language": "python",
   "name": "python3"
  },
  "language_info": {
   "codemirror_mode": {
    "name": "ipython",
    "version": 3
   },
   "file_extension": ".py",
   "mimetype": "text/x-python",
   "name": "python",
   "nbconvert_exporter": "python",
   "pygments_lexer": "ipython3",
   "version": "3.7.6"
  }
 },
 "nbformat": 4,
 "nbformat_minor": 1
}
